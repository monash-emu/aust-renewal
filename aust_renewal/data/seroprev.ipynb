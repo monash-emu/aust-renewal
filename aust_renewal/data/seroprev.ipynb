{
 "cells": [
  {
   "cell_type": "code",
   "execution_count": 18,
   "id": "7db9aecf-3239-4e78-b469-ce1e1021fae0",
   "metadata": {},
   "outputs": [],
   "source": [
    "import pandas as pd\n",
    "from datetime import datetime\n",
    "from pathlib import Path"
   ]
  },
  {
   "cell_type": "code",
   "execution_count": 19,
   "id": "7cf7dab4-2d9f-48cb-8eb1-b1547cef556c",
   "metadata": {},
   "outputs": [],
   "source": [
    "PROJECT_PATH = Path.cwd().resolve()"
   ]
  },
  {
   "cell_type": "code",
   "execution_count": 10,
   "id": "d174e0d6-232c-4e8a-b510-148ee908765d",
   "metadata": {},
   "outputs": [],
   "source": [
    "# seroprev - see readme for values\n",
    "sp_dict = {\n",
    "        datetime(2022, 2, 26): 0.170,\n",
    "        datetime(2022, 6, 13): 0.462,\n",
    "        datetime(2022, 8, 27): 0.652,\n",
    "        datetime(2022, 12, 6): 0.708\n",
    "    }"
   ]
  },
  {
   "cell_type": "code",
   "execution_count": 15,
   "id": "a6b5882f-4640-4c27-9d82-e8317264b6f3",
   "metadata": {},
   "outputs": [],
   "source": [
    "seroprev_data = pd.DataFrame(sp_dict.items())\n",
    "seroprev_data = seroprev_data.rename(columns={0:'date',1:'seroprevalence'})\n",
    "seroprev_data = seroprev_data.set_index('date')"
   ]
  },
  {
   "cell_type": "code",
   "execution_count": 23,
   "id": "b2cc4525-8c3a-4bbf-828a-6e44362ac099",
   "metadata": {},
   "outputs": [],
   "source": [
    "seroprev_data.to_csv(PROJECT_PATH / 'aus_seroprev_data.csv')"
   ]
  }
 ],
 "metadata": {
  "kernelspec": {
   "display_name": "wpr-renewal",
   "language": "python",
   "name": "wpr-renewal"
  },
  "language_info": {
   "codemirror_mode": {
    "name": "ipython",
    "version": 3
   },
   "file_extension": ".py",
   "mimetype": "text/x-python",
   "name": "python",
   "nbconvert_exporter": "python",
   "pygments_lexer": "ipython3",
   "version": "3.10.14"
  }
 },
 "nbformat": 4,
 "nbformat_minor": 5
}
